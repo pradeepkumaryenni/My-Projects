{
 "cells": [
  {
   "cell_type": "code",
   "execution_count": 17,
   "metadata": {},
   "outputs": [],
   "source": [
    "import pandas as pd\n",
    "from sklearn.preprocessing import StandardScaler\n",
    "\n",
    "# Load the anomalies data\n",
    "file_path = r'C:\\Users\\sande\\OneDrive\\Desktop\\power BI\\Supply Chain Anomaly Detection\\Anomalies Identified\\Anomalies.csv'\n",
    "df = pd.read_csv(file_path)\n",
    "\n"
   ]
  },
  {
   "cell_type": "code",
   "execution_count": 18,
   "metadata": {},
   "outputs": [],
   "source": [
    "# Preprocessing: Select relevant columns for Power BI visualizations\n",
    "features_to_keep = [\n",
    "    'order_id', 'customer_id', 'delivery_to_estimated_delivery_delay', \n",
    "    'order_duration', 'approval_delay', 'delivery_accuracy',\n",
    "    'customer_city', 'product_id', 'seller_id', \n",
    "    'price', 'shipping_charges', 'product_category_name', 'product_weight_g',\n",
    "    'order_purchase_is_weekend', 'customer_order_count', \n",
    "    'product_weight_to_price', 'product_volume', \n",
    "    'price_to_shipping_ratio', 'order_status_canceled', 'order_status_delivered',\n",
    "    'anomaly'\n",
    "]\n",
    "df_filtered = df[features_to_keep]"
   ]
  },
  {
   "cell_type": "code",
   "execution_count": 19,
   "metadata": {},
   "outputs": [
    {
     "data": {
      "text/plain": [
       "order_id                                0\n",
       "customer_id                             0\n",
       "delivery_to_estimated_delivery_delay    0\n",
       "order_duration                          0\n",
       "approval_delay                          0\n",
       "delivery_accuracy                       0\n",
       "customer_city                           0\n",
       "product_id                              0\n",
       "seller_id                               0\n",
       "price                                   0\n",
       "shipping_charges                        0\n",
       "product_category_name                   0\n",
       "product_weight_g                        0\n",
       "order_purchase_is_weekend               0\n",
       "customer_order_count                    0\n",
       "product_weight_to_price                 0\n",
       "product_volume                          0\n",
       "price_to_shipping_ratio                 0\n",
       "order_status_canceled                   0\n",
       "order_status_delivered                  0\n",
       "anomaly                                 0\n",
       "dtype: int64"
      ]
     },
     "execution_count": 19,
     "metadata": {},
     "output_type": "execute_result"
    }
   ],
   "source": [
    "df_filtered.isnull().sum()"
   ]
  },
  {
   "cell_type": "code",
   "execution_count": 20,
   "metadata": {},
   "outputs": [
    {
     "name": "stderr",
     "output_type": "stream",
     "text": [
      "C:\\Users\\sande\\AppData\\Local\\Temp\\ipykernel_18452\\1174565004.py:3: SettingWithCopyWarning: \n",
      "A value is trying to be set on a copy of a slice from a DataFrame.\n",
      "Try using .loc[row_indexer,col_indexer] = value instead\n",
      "\n",
      "See the caveats in the documentation: https://pandas.pydata.org/pandas-docs/stable/user_guide/indexing.html#returning-a-view-versus-a-copy\n",
      "  df_filtered[categorical_columns] = df_filtered[categorical_columns].fillna('Unknown') # for categorical columns\n"
     ]
    }
   ],
   "source": [
    "# Handle missing values by filling them with the median for numerical columns and 'Unknown' for categorical columns\n",
    "categorical_columns = ['customer_city', 'product_category_name']\n",
    "df_filtered[categorical_columns] = df_filtered[categorical_columns].fillna('Unknown') # for categorical columns\n"
   ]
  },
  {
   "cell_type": "code",
   "execution_count": 21,
   "metadata": {},
   "outputs": [
    {
     "name": "stderr",
     "output_type": "stream",
     "text": [
      "C:\\Users\\sande\\AppData\\Local\\Temp\\ipykernel_18452\\1178255016.py:8: SettingWithCopyWarning: \n",
      "A value is trying to be set on a copy of a slice from a DataFrame.\n",
      "Try using .loc[row_indexer,col_indexer] = value instead\n",
      "\n",
      "See the caveats in the documentation: https://pandas.pydata.org/pandas-docs/stable/user_guide/indexing.html#returning-a-view-versus-a-copy\n",
      "  df_filtered[numerical_features] = scaler.fit_transform(df_filtered[numerical_features])\n"
     ]
    }
   ],
   "source": [
    "# Standardize numerical features\n",
    "scaler = StandardScaler()\n",
    "numerical_features = [\n",
    "    'delivery_to_estimated_delivery_delay', 'order_duration', 'approval_delay',\n",
    "    'delivery_accuracy', 'price', 'shipping_charges', 'product_weight_g', 'product_weight_to_price',\n",
    "    'product_volume', 'price_to_shipping_ratio'\n",
    "]\n",
    "df_filtered[numerical_features] = scaler.fit_transform(df_filtered[numerical_features])"
   ]
  },
  {
   "cell_type": "code",
   "execution_count": 22,
   "metadata": {},
   "outputs": [
    {
     "data": {
      "text/html": [
       "<div>\n",
       "<style scoped>\n",
       "    .dataframe tbody tr th:only-of-type {\n",
       "        vertical-align: middle;\n",
       "    }\n",
       "\n",
       "    .dataframe tbody tr th {\n",
       "        vertical-align: top;\n",
       "    }\n",
       "\n",
       "    .dataframe thead th {\n",
       "        text-align: right;\n",
       "    }\n",
       "</style>\n",
       "<table border=\"1\" class=\"dataframe\">\n",
       "  <thead>\n",
       "    <tr style=\"text-align: right;\">\n",
       "      <th></th>\n",
       "      <th>order_id</th>\n",
       "      <th>customer_id</th>\n",
       "      <th>delivery_to_estimated_delivery_delay</th>\n",
       "      <th>order_duration</th>\n",
       "      <th>approval_delay</th>\n",
       "      <th>delivery_accuracy</th>\n",
       "      <th>customer_city</th>\n",
       "      <th>product_id</th>\n",
       "      <th>seller_id</th>\n",
       "      <th>price</th>\n",
       "      <th>...</th>\n",
       "      <th>product_category_name</th>\n",
       "      <th>product_weight_g</th>\n",
       "      <th>order_purchase_is_weekend</th>\n",
       "      <th>customer_order_count</th>\n",
       "      <th>product_weight_to_price</th>\n",
       "      <th>product_volume</th>\n",
       "      <th>price_to_shipping_ratio</th>\n",
       "      <th>order_status_canceled</th>\n",
       "      <th>order_status_delivered</th>\n",
       "      <th>anomaly</th>\n",
       "    </tr>\n",
       "  </thead>\n",
       "  <tbody>\n",
       "    <tr>\n",
       "      <th>0</th>\n",
       "      <td>VEDSMTavbQwk</td>\n",
       "      <td>gDdkaN8b9s1g</td>\n",
       "      <td>0.814283</td>\n",
       "      <td>0.471950</td>\n",
       "      <td>-0.802304</td>\n",
       "      <td>-0.810783</td>\n",
       "      <td>mogi-guacu</td>\n",
       "      <td>IUykT5z5LcPW</td>\n",
       "      <td>RKad98cTxhSb</td>\n",
       "      <td>-0.178319</td>\n",
       "      <td>...</td>\n",
       "      <td>toys</td>\n",
       "      <td>-0.830771</td>\n",
       "      <td>0</td>\n",
       "      <td>1</td>\n",
       "      <td>-0.319403</td>\n",
       "      <td>-0.344671</td>\n",
       "      <td>-0.002885</td>\n",
       "      <td>False</td>\n",
       "      <td>True</td>\n",
       "      <td>True</td>\n",
       "    </tr>\n",
       "    <tr>\n",
       "      <th>1</th>\n",
       "      <td>lo8oje94TYb7</td>\n",
       "      <td>eSqRKROmKF9Y</td>\n",
       "      <td>-0.570681</td>\n",
       "      <td>-0.806975</td>\n",
       "      <td>0.219736</td>\n",
       "      <td>0.602829</td>\n",
       "      <td>florianopolis</td>\n",
       "      <td>f21OMkeWX2ZC</td>\n",
       "      <td>ozjiHoSKwUks</td>\n",
       "      <td>-1.022759</td>\n",
       "      <td>...</td>\n",
       "      <td>toys</td>\n",
       "      <td>3.854578</td>\n",
       "      <td>0</td>\n",
       "      <td>2</td>\n",
       "      <td>1.418706</td>\n",
       "      <td>7.334907</td>\n",
       "      <td>-0.002895</td>\n",
       "      <td>False</td>\n",
       "      <td>True</td>\n",
       "      <td>True</td>\n",
       "    </tr>\n",
       "    <tr>\n",
       "      <th>2</th>\n",
       "      <td>lo8oje94TYb7</td>\n",
       "      <td>eSqRKROmKF9Y</td>\n",
       "      <td>-0.570681</td>\n",
       "      <td>-0.806975</td>\n",
       "      <td>0.219736</td>\n",
       "      <td>0.602829</td>\n",
       "      <td>florianopolis</td>\n",
       "      <td>f21OMkeWX2ZC</td>\n",
       "      <td>ozjiHoSKwUks</td>\n",
       "      <td>-1.022759</td>\n",
       "      <td>...</td>\n",
       "      <td>toys</td>\n",
       "      <td>3.854578</td>\n",
       "      <td>0</td>\n",
       "      <td>2</td>\n",
       "      <td>1.418706</td>\n",
       "      <td>7.334907</td>\n",
       "      <td>-0.002895</td>\n",
       "      <td>False</td>\n",
       "      <td>True</td>\n",
       "      <td>True</td>\n",
       "    </tr>\n",
       "    <tr>\n",
       "      <th>3</th>\n",
       "      <td>NnoGZNF5rNkD</td>\n",
       "      <td>YanexVtkhb2B</td>\n",
       "      <td>-0.155192</td>\n",
       "      <td>-0.596499</td>\n",
       "      <td>-0.622517</td>\n",
       "      <td>0.151391</td>\n",
       "      <td>santos</td>\n",
       "      <td>htOWZMHmysDe</td>\n",
       "      <td>9OW1ODEpHxLL</td>\n",
       "      <td>-0.996087</td>\n",
       "      <td>...</td>\n",
       "      <td>toys</td>\n",
       "      <td>1.476468</td>\n",
       "      <td>0</td>\n",
       "      <td>5</td>\n",
       "      <td>0.227035</td>\n",
       "      <td>1.800276</td>\n",
       "      <td>-0.002892</td>\n",
       "      <td>False</td>\n",
       "      <td>True</td>\n",
       "      <td>True</td>\n",
       "    </tr>\n",
       "    <tr>\n",
       "      <th>4</th>\n",
       "      <td>NnoGZNF5rNkD</td>\n",
       "      <td>YanexVtkhb2B</td>\n",
       "      <td>-0.155192</td>\n",
       "      <td>-0.596499</td>\n",
       "      <td>-0.622517</td>\n",
       "      <td>0.151391</td>\n",
       "      <td>santos</td>\n",
       "      <td>htOWZMHmysDe</td>\n",
       "      <td>9OW1ODEpHxLL</td>\n",
       "      <td>-0.996087</td>\n",
       "      <td>...</td>\n",
       "      <td>toys</td>\n",
       "      <td>1.476468</td>\n",
       "      <td>0</td>\n",
       "      <td>5</td>\n",
       "      <td>0.227035</td>\n",
       "      <td>1.800276</td>\n",
       "      <td>-0.002892</td>\n",
       "      <td>False</td>\n",
       "      <td>True</td>\n",
       "      <td>True</td>\n",
       "    </tr>\n",
       "  </tbody>\n",
       "</table>\n",
       "<p>5 rows × 21 columns</p>\n",
       "</div>"
      ],
      "text/plain": [
       "       order_id   customer_id  delivery_to_estimated_delivery_delay  \\\n",
       "0  VEDSMTavbQwk  gDdkaN8b9s1g                              0.814283   \n",
       "1  lo8oje94TYb7  eSqRKROmKF9Y                             -0.570681   \n",
       "2  lo8oje94TYb7  eSqRKROmKF9Y                             -0.570681   \n",
       "3  NnoGZNF5rNkD  YanexVtkhb2B                             -0.155192   \n",
       "4  NnoGZNF5rNkD  YanexVtkhb2B                             -0.155192   \n",
       "\n",
       "   order_duration  approval_delay  delivery_accuracy  customer_city  \\\n",
       "0        0.471950       -0.802304          -0.810783     mogi-guacu   \n",
       "1       -0.806975        0.219736           0.602829  florianopolis   \n",
       "2       -0.806975        0.219736           0.602829  florianopolis   \n",
       "3       -0.596499       -0.622517           0.151391         santos   \n",
       "4       -0.596499       -0.622517           0.151391         santos   \n",
       "\n",
       "     product_id     seller_id     price  ...  product_category_name  \\\n",
       "0  IUykT5z5LcPW  RKad98cTxhSb -0.178319  ...                   toys   \n",
       "1  f21OMkeWX2ZC  ozjiHoSKwUks -1.022759  ...                   toys   \n",
       "2  f21OMkeWX2ZC  ozjiHoSKwUks -1.022759  ...                   toys   \n",
       "3  htOWZMHmysDe  9OW1ODEpHxLL -0.996087  ...                   toys   \n",
       "4  htOWZMHmysDe  9OW1ODEpHxLL -0.996087  ...                   toys   \n",
       "\n",
       "  product_weight_g  order_purchase_is_weekend  customer_order_count  \\\n",
       "0        -0.830771                          0                     1   \n",
       "1         3.854578                          0                     2   \n",
       "2         3.854578                          0                     2   \n",
       "3         1.476468                          0                     5   \n",
       "4         1.476468                          0                     5   \n",
       "\n",
       "   product_weight_to_price  product_volume  price_to_shipping_ratio  \\\n",
       "0                -0.319403       -0.344671                -0.002885   \n",
       "1                 1.418706        7.334907                -0.002895   \n",
       "2                 1.418706        7.334907                -0.002895   \n",
       "3                 0.227035        1.800276                -0.002892   \n",
       "4                 0.227035        1.800276                -0.002892   \n",
       "\n",
       "   order_status_canceled  order_status_delivered  anomaly  \n",
       "0                  False                    True     True  \n",
       "1                  False                    True     True  \n",
       "2                  False                    True     True  \n",
       "3                  False                    True     True  \n",
       "4                  False                    True     True  \n",
       "\n",
       "[5 rows x 21 columns]"
      ]
     },
     "execution_count": 22,
     "metadata": {},
     "output_type": "execute_result"
    }
   ],
   "source": [
    "df_filtered.head()"
   ]
  },
  {
   "cell_type": "code",
   "execution_count": 23,
   "metadata": {},
   "outputs": [
    {
     "name": "stdout",
     "output_type": "stream",
     "text": [
      "Number of duplicate rows: 120078\n"
     ]
    }
   ],
   "source": [
    "# Identify duplicates and distinct records\n",
    "duplicates = df_filtered[df_filtered.duplicated()]\n",
    "print(f\"Number of duplicate rows: {len(duplicates)}\")"
   ]
  },
  {
   "cell_type": "code",
   "execution_count": 24,
   "metadata": {},
   "outputs": [
    {
     "name": "stdout",
     "output_type": "stream",
     "text": [
      "Number of distinct rows: 4562\n"
     ]
    }
   ],
   "source": [
    "distinct_records = df_filtered.drop_duplicates()\n",
    "print(f\"Number of distinct rows: {len(distinct_records)}\")"
   ]
  },
  {
   "cell_type": "code",
   "execution_count": 31,
   "metadata": {},
   "outputs": [],
   "source": [
    "distinct_records= distinct_records.reset_index()"
   ]
  },
  {
   "cell_type": "code",
   "execution_count": 35,
   "metadata": {},
   "outputs": [],
   "source": [
    "distinct_records = distinct_records.drop(columns='index',axis=1)"
   ]
  },
  {
   "cell_type": "code",
   "execution_count": 49,
   "metadata": {},
   "outputs": [
    {
     "data": {
      "text/html": [
       "<div>\n",
       "<style scoped>\n",
       "    .dataframe tbody tr th:only-of-type {\n",
       "        vertical-align: middle;\n",
       "    }\n",
       "\n",
       "    .dataframe tbody tr th {\n",
       "        vertical-align: top;\n",
       "    }\n",
       "\n",
       "    .dataframe thead th {\n",
       "        text-align: right;\n",
       "    }\n",
       "</style>\n",
       "<table border=\"1\" class=\"dataframe\">\n",
       "  <thead>\n",
       "    <tr style=\"text-align: right;\">\n",
       "      <th></th>\n",
       "      <th>order_id</th>\n",
       "      <th>customer_id</th>\n",
       "      <th>delivery_to_estimated_delivery_delay</th>\n",
       "      <th>order_duration</th>\n",
       "      <th>approval_delay</th>\n",
       "      <th>delivery_accuracy</th>\n",
       "      <th>customer_city</th>\n",
       "      <th>product_id</th>\n",
       "      <th>seller_id</th>\n",
       "      <th>price</th>\n",
       "      <th>...</th>\n",
       "      <th>product_category_name</th>\n",
       "      <th>product_weight_g</th>\n",
       "      <th>order_purchase_is_weekend</th>\n",
       "      <th>customer_order_count</th>\n",
       "      <th>product_weight_to_price</th>\n",
       "      <th>product_volume</th>\n",
       "      <th>price_to_shipping_ratio</th>\n",
       "      <th>order_status_canceled</th>\n",
       "      <th>order_status_delivered</th>\n",
       "      <th>anomaly</th>\n",
       "    </tr>\n",
       "  </thead>\n",
       "  <tbody>\n",
       "  </tbody>\n",
       "</table>\n",
       "<p>0 rows × 21 columns</p>\n",
       "</div>"
      ],
      "text/plain": [
       "Empty DataFrame\n",
       "Columns: [order_id, customer_id, delivery_to_estimated_delivery_delay, order_duration, approval_delay, delivery_accuracy, customer_city, product_id, seller_id, price, shipping_charges, product_category_name, product_weight_g, order_purchase_is_weekend, customer_order_count, product_weight_to_price, product_volume, price_to_shipping_ratio, order_status_canceled, order_status_delivered, anomaly]\n",
       "Index: []\n",
       "\n",
       "[0 rows x 21 columns]"
      ]
     },
     "execution_count": 49,
     "metadata": {},
     "output_type": "execute_result"
    }
   ],
   "source": [
    "distinct_records[distinct_records['order_status_delivered']==False]"
   ]
  },
  {
   "cell_type": "code",
   "execution_count": 28,
   "metadata": {},
   "outputs": [
    {
     "name": "stdout",
     "output_type": "stream",
     "text": [
      "data ssaved as csv file\n"
     ]
    }
   ],
   "source": [
    "distinct_records.to_csv(r'C:\\Users\\sande\\OneDrive\\Desktop\\power BI\\Supply Chain Anomaly Detection\\Distinct anomalies\\Predicted_anomalies.csv')\n",
    "print('data ssaved as csv file')"
   ]
  },
  {
   "cell_type": "code",
   "execution_count": null,
   "metadata": {},
   "outputs": [
    {
     "data": {
      "text/plain": [
       "array([ True])"
      ]
     },
     "execution_count": 51,
     "metadata": {},
     "output_type": "execute_result"
    }
   ],
   "source": [
    "Ano['order_status_delivered'].unique()\n"
   ]
  }
 ],
 "metadata": {
  "kernelspec": {
   "display_name": "Python 3",
   "language": "python",
   "name": "python3"
  },
  "language_info": {
   "codemirror_mode": {
    "name": "ipython",
    "version": 3
   },
   "file_extension": ".py",
   "mimetype": "text/x-python",
   "name": "python",
   "nbconvert_exporter": "python",
   "pygments_lexer": "ipython3",
   "version": "3.12.0"
  }
 },
 "nbformat": 4,
 "nbformat_minor": 2
}
