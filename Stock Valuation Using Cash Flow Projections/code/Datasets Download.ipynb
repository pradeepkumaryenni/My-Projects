{
 "cells": [
  {
   "cell_type": "code",
   "execution_count": 2,
   "metadata": {},
   "outputs": [
    {
     "name": "stderr",
     "output_type": "stream",
     "text": [
      "[*********************100%***********************]  1 of 1 completed"
     ]
    },
    {
     "name": "stdout",
     "output_type": "stream",
     "text": [
      "Historical stock data saved successfully as CSV file.\n"
     ]
    },
    {
     "name": "stderr",
     "output_type": "stream",
     "text": [
      "\n"
     ]
    }
   ],
   "source": [
    "import yfinance as yf\n",
    "import pandas as pd\n",
    "\n",
    "# Define the ticker and time period for historical stock data\n",
    "ticker = \"AAPL\"\n",
    "start_date = \"2013-01-01\"  # Start date for 10 years of data\n",
    "end_date = \"2024-12-10\"    # End date for the data period\n",
    "\n",
    "# Fetch historical stock price data for Apple Inc.\n",
    "apple_stock_data = yf.download(ticker, start=start_date, end=end_date)\n",
    "\n",
    "# Save to CSV\n",
    "apple_stock_data.to_csv(\"Apple_Historical_Stock_Data.csv\")\n",
    "\n",
    "print(\"Historical stock data saved successfully as CSV file.\")\n"
   ]
  },
  {
   "cell_type": "code",
   "execution_count": 1,
   "metadata": {},
   "outputs": [
    {
     "name": "stdout",
     "output_type": "stream",
     "text": [
      "Balance sheet data for 10 years saved successfully as CSV file.\n"
     ]
    }
   ],
   "source": [
    "import requests\n",
    "import pandas as pd\n",
    "\n",
    "# Alpha Vantage API configuration\n",
    "api_key = 'YOUR_API_KEY'\n",
    "ticker = 'AAPL'\n",
    "\n",
    "# Fetch balance sheet data from Alpha Vantage\n",
    "url = f'https://www.alphavantage.co/query?function=BALANCE_SHEET&symbol={ticker}&apikey={api_key}'\n",
    "response = requests.get(url)\n",
    "data = response.json()\n",
    "\n",
    "# Convert to DataFrame and save to CSV\n",
    "balance_sheet_data = pd.DataFrame(data['annualReports'])\n",
    "balance_sheet_data.to_csv(\"Apple_Balance_Sheet_10_Years.csv\", index=False)\n",
    "\n",
    "print(\"Balance sheet data for 10 years saved successfully as CSV file.\")\n"
   ]
  },
  {
   "cell_type": "code",
   "execution_count": 1,
   "metadata": {},
   "outputs": [
    {
     "name": "stdout",
     "output_type": "stream",
     "text": [
      "Cash flow data for 10 years saved successfully as CSV file.\n"
     ]
    }
   ],
   "source": [
    "import requests\n",
    "import pandas as pd\n",
    "\n",
    "# Alpha Vantage API configuration\n",
    "api_key = 'YOUR_API_KEY'  # Replace with your actual API key\n",
    "ticker = 'AAPL'\n",
    "\n",
    "# Fetch cash flow data from Alpha Vantage\n",
    "url = f'https://www.alphavantage.co/query?function=CASH_FLOW&symbol={ticker}&apikey={api_key}'\n",
    "response = requests.get(url)\n",
    "data = response.json()\n",
    "\n",
    "# Convert to DataFrame and save to CSV\n",
    "cash_flow_data = pd.DataFrame(data['annualReports'])\n",
    "cash_flow_data.to_csv(\"Apple_Cash_Flow_10_Years.csv\", index=False)\n",
    "\n",
    "print(\"Cash flow data for 10 years saved successfully as CSV file.\")\n"
   ]
  },
  {
   "cell_type": "code",
   "execution_count": 3,
   "metadata": {},
   "outputs": [
    {
     "name": "stdout",
     "output_type": "stream",
     "text": [
      "Income statement data for 10 years saved successfully as CSV file.\n"
     ]
    }
   ],
   "source": [
    "import requests\n",
    "import pandas as pd\n",
    "\n",
    "# Alpha Vantage API configuration\n",
    "api_key = 'YOUR_API_KEY'  # Replace with your actual API key\n",
    "ticker = 'AAPL'\n",
    "\n",
    "# Fetch income statement data from Alpha Vantage\n",
    "url = f'https://www.alphavantage.co/query?function=INCOME_STATEMENT&symbol={ticker}&apikey={api_key}'\n",
    "response = requests.get(url)\n",
    "\n",
    "# Check if the API request was successful\n",
    "if response.status_code == 200:\n",
    "    data = response.json()\n",
    "    if 'annualReports' in data:\n",
    "        # Convert to DataFrame and save to CSV\n",
    "        income_statement_data = pd.DataFrame(data['annualReports'])\n",
    "        income_statement_data.to_csv(\"Apple_Income_Statement_10_Years.csv\", index=False)\n",
    "        print(\"Income statement data for 10 years saved successfully as CSV file.\")\n",
    "    else:\n",
    "        print(\"Error: No 'annualReports' key found in the response. Please check the API output.\")\n",
    "else:\n",
    "    print(f\"Error: API request failed with status code {response.status_code}.\")\n"
   ]
  },
  {
   "cell_type": "code",
   "execution_count": null,
   "metadata": {},
   "outputs": [],
   "source": []
  }
 ],
 "metadata": {
  "kernelspec": {
   "display_name": "Python 3",
   "language": "python",
   "name": "python3"
  },
  "language_info": {
   "codemirror_mode": {
    "name": "ipython",
    "version": 3
   },
   "file_extension": ".py",
   "mimetype": "text/x-python",
   "name": "python",
   "nbconvert_exporter": "python",
   "pygments_lexer": "ipython3",
   "version": "3.12.0"
  }
 },
 "nbformat": 4,
 "nbformat_minor": 2
}
